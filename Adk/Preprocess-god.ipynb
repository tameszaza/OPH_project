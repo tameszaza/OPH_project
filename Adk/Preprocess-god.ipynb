{
 "cells": [
  {
   "cell_type": "code",
   "execution_count": null,
   "metadata": {},
   "outputs": [],
   "source": [
    "from PIL import Image\n",
    "import cv2\n",
    "import numpy as np\n",
    "from pdf2image import convert_from_path"
   ]
  },
  {
   "cell_type": "code",
   "execution_count": null,
   "metadata": {},
   "outputs": [],
   "source": [
    "#Detecting paper\n",
    "\n",
    "# Path to the PDF file and the photo\n",
    "pdf_path = 'OPH_project\\Adk\\Passport v18.pdf' # Passport pdf\n",
    "photo_path = 'path_to_your_photo.jpg'  # path to photo\n",
    "\n",
    "# Convert the first page of the PDF to an image\n",
    "pages = convert_from_path(pdf_path, first_page=0, last_page=1)\n",
    "pdf_image = np.array(pages[0])\n",
    "\n",
    "# Resize the PDF image for matching purposes\n",
    "pdf_gray = cv2.cvtColor(pdf_image, cv2.COLOR_BGR2GRAY)\n",
    "pdf_gray = cv2.resize(pdf_gray, (0, 0), fx=0.5, fy=0.5)\n",
    "\n",
    "# Load the photo and convert to grayscale\n",
    "photo = cv2.imread(photo_path)\n",
    "photo_gray = cv2.cvtColor(photo, cv2.COLOR_BGR2GRAY)\n",
    "\n",
    "# Apply GaussianBlur to reduce noise and improve edge detection\n",
    "blurred = cv2.GaussianBlur(photo_gray, (5, 5), 0)\n",
    "\n",
    "# Perform edge detection\n",
    "edges = cv2.Canny(blurred, 50, 150)\n",
    "\n",
    "# Find contours in the edge-detected image\n",
    "contours, _ = cv2.findContours(edges, cv2.RETR_EXTERNAL, cv2.CHAIN_APPROX_SIMPLE)\n",
    "\n",
    "# Sort contours by area and iterate through them to find the best match\n",
    "contours = sorted(contours, key=cv2.contourArea, reverse=True)\n",
    "best_match = None\n",
    "best_match_value = float('inf')\n",
    "best_rect = None\n",
    "\n",
    "for contour in contours:\n",
    "    x, y, w, h = cv2.boundingRect(contour)\n",
    "    roi = photo_gray[y:y+h, x:x+w]\n",
    "    roi_resized = cv2.resize(roi, (pdf_gray.shape[1], pdf_gray.shape[0]))\n",
    "    match_value = cv2.matchTemplate(roi_resized, pdf_gray, cv2.TM_SQDIFF_NORMED)[0][0]\n",
    "    if match_value < best_match_value:\n",
    "        best_match_value = match_value\n",
    "        best_match = contour\n",
    "        best_rect = (x, y, w, h)\n",
    "\n",
    "# Draw the best match contour on the original photo\n",
    "if best_match is not None and best_rect is not None:\n",
    "    x, y, w, h = best_rect\n",
    "    cv2.drawContours(photo, [best_match], -1, (0, 255, 0), 2)\n",
    "    \n",
    "    # Crop the detected part\n",
    "    cropped_image = photo[y:y+h, x:x+w]\n",
    "    \n",
    "    # Save the cropped image as JPG\n",
    "    cv2.imwrite('mainPicSave/detected_paper.jpg', cropped_image)\n",
    "    print(\"Cropped image saved as 'detected_paper.jpg'\")\n",
    "\n",
    "# Display the original photo with the detected paper edges\n",
    "cv2.imshow('Detected Paper', photo)\n",
    "cv2.waitKey(0)\n",
    "cv2.destroyAllWindows()\n"
   ]
  },
  {
   "cell_type": "code",
   "execution_count": null,
   "metadata": {},
   "outputs": [],
   "source": [
    "#Function resize image for YOLO"
   ]
  },
  {
   "cell_type": "code",
   "execution_count": null,
   "metadata": {},
   "outputs": [],
   "source": [
    "#crop upper part\n",
    "\n",
    "image_path = 'path/to/your/image.jpg'  # Change this to the path of your image\n",
    "img = Image.open(image_path)\n",
    "\n",
    "width_ratios = [10, 22, 34, 46, 59, 71]\n",
    "\n",
    "width, height = img.size\n",
    "crop_widths = [int(width * (ratio / 71)) for ratio in width_ratios]\n",
    "previous_width=0\n",
    "for i, crop_width in enumerate(crop_widths):\n",
    "    crop_box = (previous_width, 0, crop_width, height*(28/53))\n",
    "    cropped_img = img.crop(crop_box)\n",
    "    cropped_image_path = f'path/to/save/cropped_image_section_{i + 1}.jpg'  # Change this to your desired save path\n",
    "    cropped_img.save(cropped_image_path)\n",
    "    #print(f\"Cropped image section {i + 1} saved at {cropped_image_path}\")\n",
    "    \n",
    "    previous_width = crop_width\n",
    "\n",
    "#print(\"All sections have been cropped and saved.\")\n"
   ]
  },
  {
   "cell_type": "code",
   "execution_count": null,
   "metadata": {},
   "outputs": [],
   "source": [
    "#crop lower part\n",
    "\n",
    "crop_widths = [int(width * (ratio / 71)) for ratio in width_ratios]\n",
    "previous_width=0\n",
    "for i, crop_width in enumerate(crop_widths):\n",
    "    crop_box = (previous_width, height*(28/53), crop_width, height)\n",
    "    cropped_img = img.crop(crop_box)\n",
    "    cropped_image_path = f'path/to/save/cropped_image_section_{i + 1 + 6}.jpg'  # Change this to your desired save path\n",
    "    cropped_img.save(cropped_image_path)\n",
    "    #print(f\"Cropped image section {i + 1} saved at {cropped_image_path}\")\n",
    "    \n",
    "    previous_width = crop_width"
   ]
  }
 ],
 "metadata": {
  "language_info": {
   "name": "python"
  }
 },
 "nbformat": 4,
 "nbformat_minor": 2
}
